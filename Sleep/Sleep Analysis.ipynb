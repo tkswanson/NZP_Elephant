{
 "cells": [
  {
   "cell_type": "code",
   "execution_count": 222,
   "metadata": {},
   "outputs": [],
   "source": [
    "# read data\n",
    "import matplotlib.pyplot as plt\n",
    "import matplotlib.dates as dt\n",
    "import pandas as pd\n",
    "B = pd.read_csv('Sleep_Study_Dec2020.xlsx - Bozie.csv').dropna(axis=\"columns\", how='all') \n",
    "R = pd.read_csv('Sleep_Study_Dec2020.xlsx - Rani.csv').dropna(axis=\"columns\", how='all')\n",
    "P = pd.read_csv('Sleep_Study_Dec2020.xlsx - Spike.csv').dropna(axis=\"columns\", how='all')\n",
    "K = pd.read_csv('Sleep_Study_Dec2020.xlsx - Kamala.csv').dropna(axis=\"columns\", how='all')\n",
    "W = pd.read_csv('Sleep_Study_Dec2020.xlsx - Swarna.csv').dropna(axis=\"columns\", how='all')"
   ]
  },
  {
   "cell_type": "code",
   "execution_count": 161,
   "metadata": {},
   "outputs": [],
   "source": [
    "droptimes = [72120,79320, 86520,106320]"
   ]
  },
  {
   "cell_type": "code",
   "execution_count": 191,
   "metadata": {},
   "outputs": [],
   "source": [
    "def converttime(string):\n",
    "    (h, m, s) = string.split(':')\n",
    "    if (int(h) < 12): h= int(h) + 24 \n",
    "    return int(h) * 3600 + int(m) * 60 + int(s)"
   ]
  },
  {
   "cell_type": "code",
   "execution_count": null,
   "metadata": {},
   "outputs": [],
   "source": [
    "#B.loc[:,'Start DTime'] = pd.to_datetime(B.Date + ' '+ B[\"Start Time\"])"
   ]
  },
  {
   "cell_type": "markdown",
   "metadata": {},
   "source": [
    "## Bozie"
   ]
  },
  {
   "cell_type": "code",
   "execution_count": 242,
   "metadata": {},
   "outputs": [],
   "source": [
    "%%capture \n",
    "B[\"Start T\"] = [0]*len(B)\n",
    "B[\"Stop T\"] = [0]*len(B)\n",
    "for i,x in B.iterrows():\n",
    "    B[\"Start T\"][i] = converttime(x[\"Start Time\"])\n",
    "    B[\"Stop T\"][i] = converttime(x[\"Stop Time\"])\n",
    "    \n",
    "B_down = B[B[\"Rest/Recumbent\"] == \"Recumbent\"]"
   ]
  },
  {
   "cell_type": "code",
   "execution_count": 243,
   "metadata": {
    "scrolled": true
   },
   "outputs": [
    {
     "data": {
      "image/png": "[encoded data removed]",
      "text/plain": [
       "<Figure size 432x288 with 1 Axes>"
      ]
     },
     "metadata": {
      "needs_background": "light"
     },
     "output_type": "display_data"
    }
   ],
   "source": [
    "fig = plt.figure()\n",
    "ax = fig.add_subplot(111)\n",
    "ax = plt.hlines(\"Date\", \"Start T\",\"Stop T\",data=B,color=\"blue\")\n",
    "ax = plt.hlines(\"Date\", \"Start T\",\"Stop T\",data=B_down,color=\"green\")\n",
    "ax = plt.vlines(droptimes,0,10,color=\"k\")\n",
    "ax = plt.xticks((72000,79200,86400,93600,100800,108000), ('20:00', '22:00', '0:00', '2:00', '4:00','6:00'))"
   ]
  },
  {
   "cell_type": "markdown",
   "metadata": {},
   "source": [
    "## Rani"
   ]
  },
  {
   "cell_type": "code",
   "execution_count": 244,
   "metadata": {},
   "outputs": [],
   "source": [
    "%%capture\n",
    "R[\"Start T\"] = [0]*len(R)\n",
    "R[\"Stop T\"] = [0]*len(R)\n",
    "for i,x in R.iterrows():\n",
    "    R[\"Start T\"][i] = converttime(x[\"Start Time\"])\n",
    "    R[\"Stop T\"][i] = converttime(x[\"Stop Time\"])\n",
    "    \n",
    "R_down = R[R[\"Rest/Recumbent\"] == \"Recumbent\"]"
   ]
  },
  {
   "cell_type": "code",
   "execution_count": 246,
   "metadata": {},
   "outputs": [
    {
     "data": {
      "image/png": "[encoded data removed]",
      "text/plain": [
       "<Figure size 432x288 with 1 Axes>"
      ]
     },
     "metadata": {
      "needs_background": "light"
     },
     "output_type": "display_data"
    }
   ],
   "source": [
    "fig = plt.figure()\n",
    "ax = fig.add_subplot(111)\n",
    "ax = plt.hlines(\"Date\", \"Start T\",\"Stop T\",data=R,color=\"blue\")\n",
    "ax = plt.hlines(\"Date\", \"Start T\",\"Stop T\",data=R_down,color=\"green\")\n",
    "ax = plt.vlines(droptimes,0,10,color=\"k\")\n",
    "ax = plt.xticks((72000,79200,86400,93600,100800,108000), ('20:00', '22:00', '0:00', '2:00', '4:00','6:00'))"
   ]
  },
  {
   "cell_type": "code",
   "execution_count": 247,
   "metadata": {},
   "outputs": [],
   "source": [
    "%%capture\n",
    "P[\"Start T\"] = [0]*len(P)\n",
    "P[\"Stop T\"] = [0]*len(P)\n",
    "for i,x in P.iterrows():\n",
    "    print(i)\n",
    "    P[\"Start T\"][i] = converttime(x[\"Start Time\"])\n",
    "    P[\"Stop T\"][i] = converttime(x[\"Stop Time\"])\n",
    "    \n",
    "P_down = P[P[\"Rest/Recumbent\"] == \"Recumbent\"]"
   ]
  },
  {
   "cell_type": "code",
   "execution_count": 248,
   "metadata": {},
   "outputs": [
    {
     "data": {
      "image/png": "[encoded data removed]",
      "text/plain": [
       "<Figure size 432x288 with 1 Axes>"
      ]
     },
     "metadata": {
      "needs_background": "light"
     },
     "output_type": "display_data"
    }
   ],
   "source": [
    "fig = plt.figure()\n",
    "ax = fig.add_subplot(111)\n",
    "ax = plt.hlines(\"Date\", \"Start T\",\"Stop T\",data=P,color=\"blue\")\n",
    "ax = plt.hlines(\"Date\", \"Start T\",\"Stop T\",data=P_down,color=\"green\")\n",
    "ax = plt.vlines(droptimes,0,10,color=\"k\")\n",
    "ax = plt.xticks((72000,79200,86400,93600,100800,108000), ('20:00', '22:00', '0:00', '2:00', '4:00','6:00'))"
   ]
  },
  {
   "cell_type": "markdown",
   "metadata": {},
   "source": [
    "## Kamala"
   ]
  },
  {
   "cell_type": "code",
   "execution_count": 249,
   "metadata": {},
   "outputs": [],
   "source": [
    "%%capture\n",
    "K[\"Start T\"] = [0]*len(K)\n",
    "K[\"Stop T\"] = [0]*len(K)\n",
    "for i,x in K.iterrows():\n",
    "    print(i)\n",
    "    K[\"Start T\"][i] = converttime(x[\"Start Time\"])\n",
    "    K[\"Stop T\"][i] = converttime(x[\"Stop Time\"])\n",
    "    \n",
    "K_down = K[K[\"Rest/Recumbent\"] == \"Recumbent\"]"
   ]
  },
  {
   "cell_type": "code",
   "execution_count": 250,
   "metadata": {},
   "outputs": [
    {
     "data": {
      "image/png": "[encoded data removed]",
      "text/plain": [
       "<Figure size 432x288 with 1 Axes>"
      ]
     },
     "metadata": {
      "needs_background": "light"
     },
     "output_type": "display_data"
    }
   ],
   "source": [
    "fig = plt.figure()\n",
    "ax = fig.add_subplot(111)\n",
    "ax = plt.hlines(\"Date\", \"Start T\",\"Stop T\",data=K,color=\"blue\")\n",
    "ax = plt.hlines(\"Date\", \"Start T\",\"Stop T\",data=K_down,color=\"green\")\n",
    "ax = plt.vlines(droptimes,0,10,color=\"k\")\n",
    "ax = plt.xticks((72000,79200,86400,93600,100800,108000), ('20:00', '22:00', '0:00', '2:00', '4:00','6:00'))"
   ]
  },
  {
   "cell_type": "code",
   "execution_count": 251,
   "metadata": {},
   "outputs": [],
   "source": [
    "%%capture\n",
    "W[\"Start T\"] = [0]*len(W)\n",
    "W[\"Stop T\"] = [0]*len(W)\n",
    "for i,x in W.iterrows():\n",
    "    print(i)\n",
    "    W[\"Start T\"][i] = converttime(x[\"Start Time\"])\n",
    "    W[\"Stop T\"][i] = converttime(x[\"Stop Time\"])\n",
    "    \n",
    "W_down = W[W[\"Rest/Recumbent\"] == \"Recumbent\"]"
   ]
  },
  {
   "cell_type": "code",
   "execution_count": 252,
   "metadata": {},
   "outputs": [
    {
     "data": {
      "image/png": "[encoded data removed]",
      "text/plain": [
       "<Figure size 432x288 with 1 Axes>"
      ]
     },
     "metadata": {
      "needs_background": "light"
     },
     "output_type": "display_data"
    }
   ],
   "source": [
    "fig = plt.figure()\n",
    "ax = fig.add_subplot(111)\n",
    "ax = plt.hlines(\"Date\", \"Start T\",\"Stop T\",data=W,color=\"blue\")\n",
    "ax = plt.hlines(\"Date\", \"Start T\",\"Stop T\",data=W_down,color=\"green\")\n",
    "ax = plt.vlines(droptimes,0,10,color=\"k\")\n",
    "ax = plt.xticks((72000,79200,86400,93600,100800,108000), ('20:00', '22:00', '0:00', '2:00', '4:00','6:00'))"
   ]
  }
 ],
 "metadata": {
  "kernelspec": {
   "display_name": "Python 3",
   "language": "python",
   "name": "python3"
  },
  "language_info": {
   "codemirror_mode": {
    "name": "ipython",
    "version": 3
   },
   "file_extension": ".py",
   "mimetype": "text/x-python",
   "name": "python",
   "nbconvert_exporter": "python",
   "pygments_lexer": "ipython3",
   "version": "3.8.5"
  }
 },
 "nbformat": 4,
 "nbformat_minor": 4
}
