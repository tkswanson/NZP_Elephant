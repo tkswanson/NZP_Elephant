{
 "cells": [
  {
   "cell_type": "code",
   "execution_count": 82,
   "metadata": {},
   "outputs": [],
   "source": [
    "# read data\n",
    "import matplotlib.pyplot as plt\n",
    "import matplotlib.dates as dt\n",
    "import pandas as pd\n",
    "\n",
    "\n",
    "\n",
    "# read in data, drop any empty columns that were accidentally included\n",
    "B = pd.read_csv('Sleep_Study_Dec2020.xlsx - Bozie.csv').dropna(axis=\"columns\", how='all') \n",
    "R = pd.read_csv('Sleep_Study_Dec2020.xlsx - Rani.csv').dropna(axis=\"columns\", how='all')\n",
    "P = pd.read_csv('Sleep_Study_Dec2020.xlsx - Spike.csv').dropna(axis=\"columns\", how='all')\n",
    "K = pd.read_csv('Sleep_Study_Dec2020.xlsx - Kamala.csv').dropna(axis=\"columns\", how='all')\n",
    "W = pd.read_csv('Sleep_Study_Dec2020.xlsx - Swarna.csv').dropna(axis=\"columns\", how='all')\n",
    "\n",
    "B = B.fillna('')\n",
    "\n",
    "#generate dates included in study\n",
    "dates = pd.date_range(start=\"2020-12-21\",end=\"2021-02-28\")"
   ]
  },
  {
   "cell_type": "code",
   "execution_count": 83,
   "metadata": {},
   "outputs": [],
   "source": [
    "# change duration datatype\n",
    "B[\"Duration\"] = pd.to_timedelta(B[\"Duration\"])\n",
    "R[\"Duration\"] = pd.to_timedelta(R[\"Duration\"])\n",
    "P[\"Duration\"] = pd.to_timedelta(P[\"Duration\"])\n",
    "K[\"Duration\"] = pd.to_timedelta(K[\"Duration\"])\n",
    "W[\"Duration\"] = pd.to_timedelta(W[\"Duration\"])"
   ]
  },
  {
   "cell_type": "code",
   "execution_count": 84,
   "metadata": {},
   "outputs": [],
   "source": [
    "# get only periods of recumbency\n",
    "B_down = B[B[\"Rest/Recumbent\"] == \"Recumbent\"]\n",
    "R_down = R[R[\"Rest/Recumbent\"] == \"Recumbent\"]\n",
    "P_down = P[P[\"Rest/Recumbent\"] == \"Recumbent\"]\n",
    "K_down = K[K[\"Rest/Recumbent\"] == \"Recumbent\"]\n",
    "W_down = W[W[\"Rest/Recumbent\"] == \"Recumbent\"]"
   ]
  },
  {
   "cell_type": "code",
   "execution_count": 85,
   "metadata": {},
   "outputs": [
    {
     "data": {
      "text/html": [
       "<div>\n",
       "<style scoped>\n",
       "    .dataframe tbody tr th:only-of-type {\n",
       "        vertical-align: middle;\n",
       "    }\n",
       "\n",
       "    .dataframe tbody tr th {\n",
       "        vertical-align: top;\n",
       "    }\n",
       "\n",
       "    .dataframe thead th {\n",
       "        text-align: right;\n",
       "    }\n",
       "</style>\n",
       "<table border=\"1\" class=\"dataframe\">\n",
       "  <thead>\n",
       "    <tr style=\"text-align: right;\">\n",
       "      <th></th>\n",
       "      <th>Date</th>\n",
       "      <th>Rest/Recumbent</th>\n",
       "      <th>Start Time</th>\n",
       "      <th>Stop Time</th>\n",
       "      <th>Duration</th>\n",
       "      <th>Location</th>\n",
       "      <th>Conspecifics</th>\n",
       "      <th>Elephant Access</th>\n",
       "    </tr>\n",
       "  </thead>\n",
       "  <tbody>\n",
       "    <tr>\n",
       "      <th>12</th>\n",
       "      <td>12/22/20</td>\n",
       "      <td>Recumbent</td>\n",
       "      <td>22:52:14</td>\n",
       "      <td>0:36:51</td>\n",
       "      <td>0 days 01:44:37</td>\n",
       "      <td>5</td>\n",
       "      <td>NaN</td>\n",
       "      <td>NaN</td>\n",
       "    </tr>\n",
       "    <tr>\n",
       "      <th>13</th>\n",
       "      <td>12/22/20</td>\n",
       "      <td>Recumbent</td>\n",
       "      <td>0:38:52</td>\n",
       "      <td>2:39:50</td>\n",
       "      <td>0 days 02:00:58</td>\n",
       "      <td>5</td>\n",
       "      <td>NaN</td>\n",
       "      <td>NaN</td>\n",
       "    </tr>\n",
       "    <tr>\n",
       "      <th>14</th>\n",
       "      <td>12/22/20</td>\n",
       "      <td>Recumbent</td>\n",
       "      <td>2:44:11</td>\n",
       "      <td>3:56:08</td>\n",
       "      <td>0 days 01:11:57</td>\n",
       "      <td>5</td>\n",
       "      <td>NaN</td>\n",
       "      <td>NaN</td>\n",
       "    </tr>\n",
       "    <tr>\n",
       "      <th>15</th>\n",
       "      <td>12/22/20</td>\n",
       "      <td>Recumbent</td>\n",
       "      <td>4:03:03</td>\n",
       "      <td>4:57:17</td>\n",
       "      <td>0 days 00:54:14</td>\n",
       "      <td>4</td>\n",
       "      <td>NaN</td>\n",
       "      <td>NaN</td>\n",
       "    </tr>\n",
       "    <tr>\n",
       "      <th>62</th>\n",
       "      <td>12/28/20</td>\n",
       "      <td>Recumbent</td>\n",
       "      <td>1:13:11</td>\n",
       "      <td>3:02:23</td>\n",
       "      <td>0 days 01:49:12</td>\n",
       "      <td>5</td>\n",
       "      <td>NaN</td>\n",
       "      <td>NaN</td>\n",
       "    </tr>\n",
       "    <tr>\n",
       "      <th>64</th>\n",
       "      <td>12/28/20</td>\n",
       "      <td>Recumbent</td>\n",
       "      <td>3:28:41</td>\n",
       "      <td>5:05:27</td>\n",
       "      <td>0 days 01:36:46</td>\n",
       "      <td>5</td>\n",
       "      <td>NaN</td>\n",
       "      <td>stepped on by bozie:(</td>\n",
       "    </tr>\n",
       "    <tr>\n",
       "      <th>70</th>\n",
       "      <td>12/29/20</td>\n",
       "      <td>Recumbent</td>\n",
       "      <td>0:43:10</td>\n",
       "      <td>0:52:10</td>\n",
       "      <td>0 days 00:09:00</td>\n",
       "      <td>1</td>\n",
       "      <td>R</td>\n",
       "      <td>NaN</td>\n",
       "    </tr>\n",
       "    <tr>\n",
       "      <th>72</th>\n",
       "      <td>12/29/20</td>\n",
       "      <td>Recumbent</td>\n",
       "      <td>1:34:32</td>\n",
       "      <td>1:42:41</td>\n",
       "      <td>0 days 00:08:09</td>\n",
       "      <td>1</td>\n",
       "      <td>R</td>\n",
       "      <td>NaN</td>\n",
       "    </tr>\n",
       "    <tr>\n",
       "      <th>74</th>\n",
       "      <td>12/29/20</td>\n",
       "      <td>Recumbent</td>\n",
       "      <td>2:33:29</td>\n",
       "      <td>3:36:48</td>\n",
       "      <td>0 days 01:03:19</td>\n",
       "      <td>1</td>\n",
       "      <td>R</td>\n",
       "      <td>NaN</td>\n",
       "    </tr>\n",
       "    <tr>\n",
       "      <th>79</th>\n",
       "      <td>12/30/20</td>\n",
       "      <td>Recumbent</td>\n",
       "      <td>0:54:03</td>\n",
       "      <td>2:35:25</td>\n",
       "      <td>0 days 01:41:22</td>\n",
       "      <td>E</td>\n",
       "      <td>NaN</td>\n",
       "      <td>NaN</td>\n",
       "    </tr>\n",
       "    <tr>\n",
       "      <th>81</th>\n",
       "      <td>12/30/20</td>\n",
       "      <td>Recumbent</td>\n",
       "      <td>3:29:40</td>\n",
       "      <td>4:46:04</td>\n",
       "      <td>0 days 01:16:24</td>\n",
       "      <td>E</td>\n",
       "      <td>NaN</td>\n",
       "      <td>NaN</td>\n",
       "    </tr>\n",
       "  </tbody>\n",
       "</table>\n",
       "</div>"
      ],
      "text/plain": [
       "        Date Rest/Recumbent Start Time Stop Time        Duration Location  \\\n",
       "12  12/22/20      Recumbent   22:52:14   0:36:51 0 days 01:44:37        5   \n",
       "13  12/22/20      Recumbent    0:38:52   2:39:50 0 days 02:00:58        5   \n",
       "14  12/22/20      Recumbent    2:44:11   3:56:08 0 days 01:11:57        5   \n",
       "15  12/22/20      Recumbent    4:03:03   4:57:17 0 days 00:54:14        4   \n",
       "62  12/28/20      Recumbent    1:13:11   3:02:23 0 days 01:49:12        5   \n",
       "64  12/28/20      Recumbent    3:28:41   5:05:27 0 days 01:36:46        5   \n",
       "70  12/29/20      Recumbent    0:43:10   0:52:10 0 days 00:09:00        1   \n",
       "72  12/29/20      Recumbent    1:34:32   1:42:41 0 days 00:08:09        1   \n",
       "74  12/29/20      Recumbent    2:33:29   3:36:48 0 days 01:03:19        1   \n",
       "79  12/30/20      Recumbent    0:54:03   2:35:25 0 days 01:41:22        E   \n",
       "81  12/30/20      Recumbent    3:29:40   4:46:04 0 days 01:16:24        E   \n",
       "\n",
       "   Conspecifics        Elephant Access  \n",
       "12          NaN                    NaN  \n",
       "13          NaN                    NaN  \n",
       "14          NaN                    NaN  \n",
       "15          NaN                    NaN  \n",
       "62          NaN                    NaN  \n",
       "64          NaN  stepped on by bozie:(  \n",
       "70            R                    NaN  \n",
       "72            R                    NaN  \n",
       "74            R                    NaN  \n",
       "79          NaN                    NaN  \n",
       "81          NaN                    NaN  "
      ]
     },
     "execution_count": 85,
     "metadata": {},
     "output_type": "execute_result"
    }
   ],
   "source": [
    "W_down"
   ]
  },
  {
   "cell_type": "code",
   "execution_count": 87,
   "metadata": {},
   "outputs": [
    {
     "data": {
      "text/plain": [
       "Location\n",
       "1   0 days 01:20:28\n",
       "4   0 days 00:54:14\n",
       "5   0 days 08:23:30\n",
       "E   0 days 02:57:46\n",
       "Name: Duration, dtype: timedelta64[ns]"
      ]
     },
     "execution_count": 87,
     "metadata": {},
     "output_type": "execute_result"
    }
   ],
   "source": [
    "W_down.groupby(\"Location\").sum()[\"Duration\"]"
   ]
  },
  {
   "cell_type": "code",
   "execution_count": 88,
   "metadata": {},
   "outputs": [
    {
     "data": {
      "text/plain": [
       "5    5\n",
       "1    3\n",
       "E    2\n",
       "4    1\n",
       "Name: Location, dtype: int64"
      ]
     },
     "execution_count": 88,
     "metadata": {},
     "output_type": "execute_result"
    }
   ],
   "source": [
    "W_down[\"Location\"].value_counts() "
   ]
  },
  {
   "cell_type": "code",
   "execution_count": 92,
   "metadata": {},
   "outputs": [
    {
     "data": {
      "text/plain": [
       "Location\n",
       "1    RRR\n",
       "4      0\n",
       "5      0\n",
       "E      0\n",
       "Name: Conspecifics, dtype: object"
      ]
     },
     "execution_count": 92,
     "metadata": {},
     "output_type": "execute_result"
    }
   ],
   "source": [
    "W_down.groupby(\"Location\").sum()[\"Conspecifics\"]"
   ]
  },
  {
   "cell_type": "code",
   "execution_count": null,
   "metadata": {},
   "outputs": [],
   "source": []
  }
 ],
 "metadata": {
  "kernelspec": {
   "display_name": "Python 3",
   "language": "python",
   "name": "python3"
  },
  "language_info": {
   "codemirror_mode": {
    "name": "ipython",
    "version": 3
   },
   "file_extension": ".py",
   "mimetype": "text/x-python",
   "name": "python",
   "nbconvert_exporter": "python",
   "pygments_lexer": "ipython3",
   "version": "3.8.5"
  }
 },
 "nbformat": 4,
 "nbformat_minor": 4
}
